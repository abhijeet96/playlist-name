{
 "cells": [
  {
   "cell_type": "code",
   "execution_count": 5,
   "metadata": {},
   "outputs": [
    {
     "name": "stdout",
     "output_type": "stream",
     "text": [
      "['', '/usr/lib/python35.zip', '/usr/lib/python3.5', '/usr/lib/python3.5/plat-x86_64-linux-gnu', '/usr/lib/python3.5/lib-dynload', '/home/avi/.local/lib/python3.5/site-packages', '/usr/local/lib/python3.5/dist-packages', '/usr/lib/python3/dist-packages', '/home/avi/.local/lib/python3.5/site-packages/IPython/extensions', '/home/avi/.ipython']\n"
     ]
    }
   ],
   "source": [
    "import pandas as pd\n",
    "import numpy as np\n",
    "import os\n",
    "import json\n",
    "import sys\n",
    "import re\n",
    "print(sys.path)\n",
    "# import nltk\n",
    "# from nltk.corpus import wordnet\n",
    "# from nltk.tokenize import word_tokenize\n",
    "from pprint import pprint\n",
    "\n",
    "json_filepath = os.path.join('.','mpd.slice.0-999.json')\n",
    "\n",
    "data = json.load(open(json_filepath))\n",
    "\n",
    "playlists= data['playlists']\n",
    "stop_words = {'you','me'} \n",
    "\n",
    "track_uri_to_id={}\n",
    "id_to_track_uri={}\n",
    "\n",
    "i=0\n",
    "j=0\n",
    "pid_to_playlist_name={}\n",
    "playlist_matrix={}\n"
   ]
  },
  {
   "cell_type": "code",
   "execution_count": 7,
   "metadata": {},
   "outputs": [
    {
     "name": "stdout",
     "output_type": "stream",
     "text": [
      "34443\n",
      "34443\n"
     ]
    }
   ],
   "source": [
    "for playlist in playlists:\n",
    "\tname = playlist['name']\n",
    "\ttracks= playlist['tracks']\n",
    "\tpid=playlist['pid']\n",
    "\n",
    "\tpid_to_playlist_name[pid]=name\n",
    "\n",
    "\ttrack_uri_list=[]\n",
    "\n",
    "\tfor track in tracks:\n",
    "\t\ttrack_uri=track['track_uri']\n",
    "\t\t#can add name and album later if needed\n",
    "\t\tif not track_uri in track_uri_to_id:\n",
    "\t\t\ttrack_uri_to_id[track_uri]=i\n",
    "\t\t\tid_to_track_uri[i]=track_uri\n",
    "\t\t\ti+=1\t\t\n",
    "\n",
    "\t\ttrack_uri_list.append(track_uri_to_id[track_uri])\n",
    "\n",
    "\tplaylist_matrix[pid]=track_uri_list\n",
    "\n",
    "\t#print(\"playlist no.\", j)\n",
    "\tj+=1\n",
    "#print(playlist_matrix)\n",
    "print(len(id_to_track_uri))\n",
    "print(i)"
   ]
  },
  {
   "cell_type": "code",
   "execution_count": null,
   "metadata": {},
   "outputs": [],
   "source": [
    "\n",
    "for playlist in playlists:\n",
    "#     for key,val in playlist.items():\n",
    "#         print (key,val)\n",
    "    name = playlist['name']\n",
    "    letters_only = re.sub(\"[^a-zA-Z0-9 ]\", \"\", name)\n",
    "    lower_case = letters_only.lower().split()\n",
    "    meaningful_words = [w for w in lower_case if not w in stop_words]\n",
    "    final_name = \" \".join( meaningful_words )\n",
    "    print(final_name) "
   ]
  },
  {
   "cell_type": "code",
   "execution_count": null,
   "metadata": {},
   "outputs": [],
   "source": []
  }
 ],
 "metadata": {
  "kernelspec": {
   "display_name": "Python 3",
   "language": "python",
   "name": "python3"
  },
  "language_info": {
   "codemirror_mode": {
    "name": "ipython",
    "version": 3
   },
   "file_extension": ".py",
   "mimetype": "text/x-python",
   "name": "python",
   "nbconvert_exporter": "python",
   "pygments_lexer": "ipython3",
   "version": "3.5.1+"
  }
 },
 "nbformat": 4,
 "nbformat_minor": 2
}
