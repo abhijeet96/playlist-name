{
 "cells": [
  {
   "cell_type": "code",
   "execution_count": 24,
   "metadata": {},
   "outputs": [
    {
     "name": "stdout",
     "output_type": "stream",
     "text": [
      "hohoh\n"
     ]
    }
   ],
   "source": [
    "import os\n",
    "import pandas\n",
    "import json\n",
    "import numpy as np\n",
    "import pandas as pd\n",
    "import matplotlib.pyplot as plt\n",
    "\n",
    "json_filepath = os.path.join('C:','Users','Sapna singh','Desktop','4-2','malap','data')\n",
    "\n",
    "raw_filepath=r'C:\\Users\\Sapna singh\\Desktop\\4-2\\malap\\data'\n",
    "\n",
    "# Python Program to shuffle a given array\n",
    "import random\n",
    "\n",
    "# A function to generate a random permutation of arr[]\n",
    "def randomize (arr, n):\n",
    "# Start from the last element and swap one by one. We don't\n",
    "# need to run for the first element that's why i > 0\n",
    "    for i in range(n-1,0,-1):\n",
    "        # Pick a random index from 0 to i\n",
    "        j = random.randint(0,i)\n",
    "\n",
    "        # Swap arr[i] with the element at random index\n",
    "        arr[i],arr[j] = arr[j],arr[i]\n",
    "    return arr\n",
    "\n",
    "print(\"hohoh\")\n",
    "\n",
    "with open('trainin.txt', 'w+') as train: \n",
    "    with open('testin.txt', 'w+') as test: \n",
    "\n",
    "        for filename in os.listdir(raw_filepath):\n",
    "            data = json.load(open(raw_filepath+\"\\\\\"+ filename))\n",
    "\n",
    "            playlists= data['playlists']\n",
    "\n",
    "            for playlist in playlists:\n",
    "                name = playlist['name']\n",
    "                tracks= playlist['tracks']\n",
    "                pid=playlist['pid']\n",
    "                num_tracks=playlist[\"num_tracks\"]\n",
    "\n",
    "\n",
    "                track_uri_list=[]\n",
    "\n",
    "                if num_tracks>=50:\n",
    "\n",
    "                    track_indices= [i for i in range(0,num_tracks)]\n",
    "\n",
    "                    track_indices=randomize(track_indices, num_tracks)\n",
    "\n",
    "                    test_track_indices=track_indices[0:num_tracks//10]\n",
    "                    train_track_indices=track_indices[num_tracks//10:]\n",
    "\n",
    "                    for track in tracks:\n",
    "                        track_uri=track['track_uri']\n",
    "                        track_pos=track[\"pos\"]\n",
    "\n",
    "                        if track_pos in test_track_indices:\n",
    "                            test.write(str(pid)+' '+track_uri.split(':')[2]+'\\n')\n",
    "                        else:                            \n",
    "                            train.write(str(pid)+' '+track_uri.split(':')[2]+'\\n')\n",
    "                            \n"
   ]
  },
  {
   "cell_type": "code",
   "execution_count": 7,
   "metadata": {},
   "outputs": [
    {
     "ename": "SyntaxError",
     "evalue": "unexpected EOF while parsing (<ipython-input-7-047327a561b6>, line 1)",
     "output_type": "error",
     "traceback": [
      "\u001b[1;36m  File \u001b[1;32m\"<ipython-input-7-047327a561b6>\"\u001b[1;36m, line \u001b[1;32m1\u001b[0m\n\u001b[1;33m    with open('train.txt', 'w+') as train:\u001b[0m\n\u001b[1;37m                                           ^\u001b[0m\n\u001b[1;31mSyntaxError\u001b[0m\u001b[1;31m:\u001b[0m unexpected EOF while parsing\n"
     ]
    }
   ],
   "source": [
    "import pickle\n",
    "\n",
    "ct=0\n",
    "uri_to_id={}\n",
    "id_to_uri={}\n",
    "\n",
    "with open('uri_list') as inp:\n",
    "    for line in inp:\n",
    "        uri_to_id[line]=ct\n",
    "        id_to_uri[ct]=line\n",
    "        ct+=1\n",
    "\n",
    "pickle.dump(uri_to_id, open(\"uri_to_id.p\", \"wb\"))\n",
    "pickle.dump(id_to_uri, open(\"id_to_uri.p\", \"wb\"))\n"
   ]
  },
  {
   "cell_type": "markdown",
   "metadata": {
    "collapsed": true
   },
   "source": [
    "Checking out popular songs\n"
   ]
  },
  {
   "cell_type": "code",
   "execution_count": 4,
   "metadata": {},
   "outputs": [
    {
     "name": "stdout",
     "output_type": "stream",
     "text": [
      "[[46574, '7KXjTSCq5nL1LoYtL7XAwS'], [43447, '1xznGGDReH1oQq0xzbwXa3'], [41309, '7yyRTcZmCiyzzJlNzGC9Ol'], [41079, '7BKLCZ1jbUBVqRi2FVlTVw'], [39987, '3a1lNhkSLSkpJE4MSHpDu9'], [35202, '5hTpBe8h35rJ67eAWHQsJx'], [35138, '2EEeOnHehOozLq4aS0n6SL'], [34999, '4Km5HrUvYTaSUfiSGPJeQR'], [34922, '7GX5flRQZVHRAGd6B4TmDO'], [34657, '152lZdxL1OR0ZMW6KquMif']]\n"
     ]
    }
   ],
   "source": [
    "import os\n",
    "import pandas\n",
    "import json\n",
    "import numpy as np\n",
    "import pandas as pd\n",
    "import matplotlib.pyplot as plt\n",
    "import pickle\n",
    "import heapq\n",
    "\n",
    "raw_filepath=r'C:\\Users\\Sapna singh\\Desktop\\4-2\\malap\\data'\n",
    "\n",
    "songs_frequency={}\n",
    "song_frequency_list=[]\n",
    "\n",
    "\n",
    "for filename in os.listdir(raw_filepath):\n",
    "            data = json.load(open(raw_filepath+\"\\\\\"+ filename))\n",
    "\n",
    "            playlists= data['playlists']\n",
    "\n",
    "            for playlist in playlists:   \n",
    "                tracks= playlist['tracks']\n",
    "\n",
    "                for track in tracks:\n",
    "                    track_uri=track['track_uri'].split(':')[2]\n",
    "                    if track_uri in songs_frequency:\n",
    "                        songs_frequency[track_uri]+=1\n",
    "                    else:\n",
    "                        songs_frequency[track_uri]=1\n",
    "\n",
    "pickle.dump(songs_frequency, open(\"songs_frequency.p\", \"wb\"))\n",
    "                    \n",
    "for key,val in songs_frequency.items():\n",
    "    song_frequency_list.append([val,key])\n",
    "    \n",
    "heapq.heapify(song_frequency_list)\n",
    "answer=heapq.nlargest(10,song_frequency_list)\n",
    "\n",
    "print(answer)"
   ]
  },
  {
   "cell_type": "markdown",
   "metadata": {},
   "source": [
    "[[46574, '7KXjTSCq5nL1LoYtL7XAwS'], [43447, '1xznGGDReH1oQq0xzbwXa3'], [41309, '7yyRTcZmCiyzzJlNzGC9Ol'], [41079, '7BKLCZ1jbUBVqRi2FVlTVw'], [39987, '3a1lNhkSLSkpJE4MSHpDu9'], [35202, '5hTpBe8h35rJ67eAWHQsJx'], [35138, '2EEeOnHehOozLq4aS0n6SL'], [34999, '4Km5HrUvYTaSUfiSGPJeQR'], [34922, '7GX5flRQZVHRAGd6B4TmDO'], [34657, '152lZdxL1OR0ZMW6KquMif']]\n",
    "\n"
   ]
  },
  {
   "cell_type": "code",
   "execution_count": 9,
   "metadata": {},
   "outputs": [
    {
     "name": "stdout",
     "output_type": "stream",
     "text": [
      "['7KXjTSCq5nL1LoYtL7XAwS', '1xznGGDReH1oQq0xzbwXa3', '7yyRTcZmCiyzzJlNzGC9Ol', '7BKLCZ1jbUBVqRi2FVlTVw', '3a1lNhkSLSkpJE4MSHpDu9', '5hTpBe8h35rJ67eAWHQsJx', '2EEeOnHehOozLq4aS0n6SL', '4Km5HrUvYTaSUfiSGPJeQR', '7GX5flRQZVHRAGd6B4TmDO', '152lZdxL1OR0ZMW6KquMif', '0SGkqnVQo9KPytSri1H6cF', '5dNfHmqgr128gMY2tc5CeJ', '62vpWI1CHwFy7tMIcSStl8', '0VgkVdmE4gld66l8iyGjgx', '0v9Wz8o0BT8DU38R4ddjeH', '3DXncPQOG4VBw3QHh3S817', '27GmP9AWRs744SzKcpJsTZ', '6gBFPUFcJLzWGx4lenP6h2', '343YBumqHu19cGoGARUTsd', '5CtI0qwDJkDQGwXD1H1cLb', '6O6M7pJLABmfBRoGZMu76Y', '5XJJdNPkwmbUwE79gv0NxK', '0QsvXIfqM0zZoerQfsI9lm', '3kxfsdsCpFgN412fpnW85Y', '7qiZfU4dY1lWllzX7mPBI3', '2d8JP84HNLKhmd6IYOoupQ', '6eT7xZZlB2mwyzJ2sUKG6w', '25khomWgBVamSdKw7hzm3l', '7yq4Qj7cqayVTp3FF9CWbm', '6fujklziTHa8uoM5OQSfIo', '5aAx2yezTd8zXrkmtKl66Z', '5OOkp4U9P9oL23maHFHL1h', '2KpCpk6HjXXLb7nnXoXA5O', '7oK9VyNzrYvRFo7nQEYkWN', '4WjH9Bzt3kx7z8kl0awxh4', '0KKkJNfGyhkQ5aFogxQAPU', '1Tt4sE4pXi57mTD1GCzsqm', '6HZILIRieu8S0iqY8kIKhj', '4bHsxqR3GMrXTxEPLuK5ue', '69bp2EbF7Q2rqc5N3ylezZ', '7wGoVu4Dady5GV0Sv4UIsx', '5tz69p7tJuGPeMGwNTxYuV', '4w7yrP4RAeeyhfG9nJqQvS', '2FBUoWkIuQXwayw2RNo5l6', '7tr2za8SQg2CI8EDgrdtNl', '3B54sVLJ402zGa6Xm4YGNe', '0XUfyU2QviPAs6bxSpXYG4', '1Slwb6dOYkBlWal1PGtnNg', '5NQbUaeTEOGdD6hHcre0dZ', '5uDASfU19gDxSjW8cnCaBp', '6RsWqX8zABZLhZydXxEFOm', '6p8NuHm8uCGnn2Dtbtf7zE', '1AhDOtG9vPSOmsWgNW0BEY', '17Fd6Yb7mSbinKG8LoWfFl', '7EiZI6JVHllARrX9PUvAdX', '11KJSRSgaDxqydKYiD2Jew', '2Z8WuEywRWYTKe1NybPQEW', '7KOlJ92bu51cltsD9KU5I7', '12REd1n8PeiHHWOh066tpr', '1wHZx0LgzFHyeIZkUydNXq', '4Q3N4Ct4zCuIHuZ65E3BD4', '7wwifjNAb172PtDpKK3CoR', '40YcuQysJ0KlGQTeGUosTC', '14WWzenpaEgQZlqPq2nk4v', '7hDc8b7IXETo14hHIHdnhd', '6DNtNfH8hXkqOX1sjqmI7p', '1lzr43nnXAijIGYnCT8M8H', '6Knv6wdA0luoMUuuoYi2i1', '3CRDbSIZ4r5MsZ0YwxuEkn', '5Z3GHaZ6ec9bsiI5BenrbY', '0dA2Mk56wEzDgegdC6R17g', '0azC730Exh71aQlOt9Zj3y', '1mqlc0vEP9mU1kZgTi6LIQ', '3pXF1nA74528Edde4of9CC', '7mldq42yDuxiUNn08nvzHO', '5uCax9HTNlzGybIStD3vDh', '32OlwWuMpZ6b0aN2RZOeMS', '3hB5DgAiMAQ4DzYbsMq1IT', '2fQrGHiQOvpL9UgPvtYy6G', '6mapJIPnQ23RTAevUoE0DL', '4X5f3vT8MRuXF68pfjNte5', '6C7RJEIUDqKkJRZVWdkfkH', '4CJVkjo5WpmUAKp3R44LNb', '4kbj5MwxO1bq9wjT5g9HaA', '2PpruBYCo4H7WOBJ7Q2EwM', '6JV2JOEocMgcZxYSZelKcc', '03tqyYWC9Um2ZqU0ZN849H', '6fwdbPMwP1zVStm8FybmkO', '1f5cbQtDrykjarZVrShaDI', '439TlnnznSiBbQbgXiBqAd', '6RUKPb4LETWmmr3iAEQktW', '6WhzFzROw3aq3rPWjgYlxr', '3pzjHKrQSvXGHQ98dx18HI', '6F609ICg9Spjrw1epsAnpa', '4OZEu0Vwq0RB2LAq14v99n', '0B8QzDH7YWih85V5SEMnyJ', '5Q0Nhxo0l2bP3pNjpGJwV1', '3eR23VReFzcdmS7TYCrhCe', '7w9bgPAmPTtrkt2v16QWvQ', '1Ser4X0TKttOvo8bgdytTP', '6i0V12jOa3mr6uu4WYhUBr', '3yrSvpt2l1xhsV9Em88Pul', '4pdPtRcBmOSQDlJ3Fk945m', '20dP2DaMHIAmwWAbp7peSr', '0IqKeD8ZSP72KbGYyzEcAs', '6Ius4TC0L3cN74HT7ENE6e', '2ANLarE8yHVsLWW21nj79M', '6ZYS6QQxTLsQ6IFXdVx1r4', '40riOy7x9W7GXjyGp4pjAv', '4tCtwWceOPWzenK2HAIJSb', '6Ep6BzIOB9tz3P4sWqiiAB', '13HVjjWUZFaWilh2QUJKsP', '66hayvUbTotekKU3H4ta1f', '0CcQNd8CINkwQfe1RDtGV6', '4scpF6J5uMBvoh6sFB7EL1', '1OAh8uOEOvTDqkKFsKksCi', '7o2CTH4ctstm8TNelqjb51', '7vRriwrloYVaoAe3a9wJHe', '5mPSyjLatqB00IkPqRlbTE', '6vECYJHxYmm3Ydt3fF01pE', '2Z2vOukzwOgqR4dkymRSWd', '1yxgsra98r3qAtxqiGZPiX', '7DfFc7a6Rwfi3YQMRbDMau', '7129iqBafaphfc3WPCGC0L', '43PuMrRfbyyuz4QpZ3oAwN', '3S0OXQeoh0w6AY8WQVckRW', '7vFoFDWqTX0mHzLfrF1Cfy', '2H3ZUSE54pST4ubRd5FzFR', '3uhBIQ7tv8j1FME8cFGEfG', '4gFXY5yvHayGckJndafYQE', '4llK75pXNWZz6KAho2Gp16', '19a3JfW8BQwqHWUMbcqSx8', '2jyjhRf6DVbMPU5zxagN2h', '5yuShbu70mtHXY0yLzCQLQ', '6yr8GiTHWvFfi4o6Q5ebdT', '0PJIbOdMs3bd5AT8liULMQ', '0uMUvbkTdjBNZ5UuHZ5PIj', '6YbhspuOar1D9WSSnfe7ds', '6PGoSes0D9eUDeeAafB2As', '1e1JKLEDKP7hEQzJfNAgPl', '5lFDtgWsjRJu8fPOAyJIAK', '5qqabIl2vWzo9ApSC317sa', '04DwTuZ2VBdJCCC5TROn7L', '6fxVffaTuwjgEk5h9QyRjy', '3bidbhpOYeV4knp8AIu8Xn', '7iL6o9tox1zgHpKUfh9vuC', '7ID2dydg1QFuWObmdhwzfm', '5Db9VIdDsN5yu3Eu7CT0i4', '2bjwRfXMk4uRgOD9IBYl9h', '5KY7zgFeH2GWoL1zP9mME6', '3ZFTkvIE7kyPt6Nu3PEa7V', '1eyzqe2QqGZUmfcPZtrIyt', '2771LMNxwf62FTAdpJMQfM', '2QjOHCTQ1Jl3zawyYOpxh6', '6b8Be6ljOzmkOmFslEb23P', '1UZ25gykR30Oewh3dBRtVZ', '2hKdd3qO7cWr2Jo0Bcs0MA', '4sPmO7WMQUAf45kwMOtONw', '2gam98EZKrF9XuOkU13ApN', '12qZHAeOyTf93YAWvGDTat', '7w87IxuO7BDcJ3YUqCyMTT', '6QgjcU0zLnzq5OrUoSZ3OK', '78WVLOP9pN0G3gRLFy1rAa', '6REbwUNlppTfcnV4d4ZoZi', '6875MeXyCW0wLyT72Eetmo', '0pSBuHjILhNEo55xK1zrRt', '5SqSckut3FcoQKmGkMWgp1', '5edBgVtRD0fvWk140Sl21T', '2aFiaMXmWsM3Vj72F9ksBl', '1WP1r7fuvRqZRnUaTi2I1Q', '2GiJYvgVaD2HtM8GqD9EgQ', '6RcQOut9fWL6FSqeIr5M1r', '6RrXd9Hph4hYR4bf3dbM6H', '1jdNcAD8Ir58RlsdGjJJdx', '6D0b04NJIKfEMg040WioJQ', '0WqIKmW4BTrj3eJFmnCKMv', '494OU6M7NOf4ICYb4zWCf5', '2NVt7fxr5GsqTkGwYXcNTE', '5kNe7PE09d6Kvw5pAsx23n', '4RCWB3V8V0dignt99LZ8vH', '16qYlQ6koFxYVbiJbGHblz', '1BltsyC5W3SAABdxyrDXwi', '5lnsCyEKWofnC00U4Ax0ti', '7w5cxTEzp1rfV3KCy0Bd5N', '2LvRR121MWFmmEGkuV2vQP', '08zJpaUQVi9FrKv2e32Bah', '3rq5w4bQGigXOfdN30ATJt', '11bD1JtSjlIgKgZG2134DZ', '0wdKiSBUT7aZkXUIdJWcwC', '4KW1lqgSr8TKrvBII0Brf8', '6g1NlCpW7fgqDnWbCCDrHl', '27SdWb2rFzO6GWiYDBTD9j', '40yJGQyEaBbIkXpwMFkXip', '3gbBpTdY8lnQwqxNCcf795', '2TfSHkHiFO4gRztVIkggkE', '79XrkTOfV1AqySNjVlygpW', '60xaS8mYBKUW4VQQ666N0T', '0CAfXk7DXMnon4gLudAp7J', '4jTiyLlOJVJj3mCr7yfPQD', '72jbDTw1piOOj770jWNeaG', '5fVZC9GiM4e8vu99W0Xf6J', '0L7loeTIg6akW84aEQZpCT', '31Q9ZTF9x81BDonlObCbvP', '3pndPhlQWjuSoXhcIIdBjv', '5RsUlxLto4NZbhJpqJbHfN', '3cfOd4CMv2snFaKAnMdnvK', '3nAq2hCr1oWsIU54tS98pL', '3d9DChrdc6BOeFsbrZ3Is0', '0PDUDa38GO8lMxLCRc4lL1', '0J6mQxEZnlRt9ymzFntA6z', '2Oehrcv4Kov0SuIgWyQY9e', '2gZUPNdnz5Y45eiGxpHGSc', '3b0EOvScbZUc0qJx0E1L2z', '3n69hLUdIsSa1WlRmjMZlW', '5GXAXm5YOmYT0kL5jHvYBt', '10I3CmmwT0BkOVhduDy53o', '3NdDpSvN911VPGivFlV5d0', '5HuqzFfq2ulY1iBAW5CxLe', '4pLwZjInHj3SimIyN9SnOz', '49zD0wr2S3d0lZPib0K4e1', '7GJClzimvMSghjcrKxuf1M', '5ghIJDpPoe3CfHMGu71E6T', '6EpRaXYhGOB3fj4V2uDkMJ', '26rdOwwjC2UnweK3xeS58u', '4Kz4RdRCceaA9VgTqBhBfa', '02M6vucOvmRfMxTXDUwRXu', '3zByVQLvdXUaDTubfWkpCk', '3ZMv9EzGoteNi5Qnx0KpEO', '2LawezPeJhN4AWuSB0GtAU', '2374M0fQpWi3dLnB54qaLX', '6TaqooOXAEcijL6G1AWS2K', '4dGJf1SER1T6ooX46vwzRB', '2CvOqDpQIMw69cCzWqr5yr', '0O45fw2L5vsWpdsOdXwNAR', '4jtyUzZm9WLc2AdaJ1dso7', '6IcrwGdIvRsrImOnoYfG9Z', '1KGi9sZVMeszgZOWivFpxs', '4o6BgsqLIBViaGVbx5rbRk', '2ihCaVdNZmnHZWt0fvAM7B', '2q4rjDy9WhaN3o9MvDbO21', '2FviG1Ma0M0BSZbqaDvw0x', '4bPQs0PHn4xbipzdPfn6du', '0z5ZPs57J2KERwM1tBM2GF', '0vaf64cpnqM7COUZZkoBig', '0EMmVUYs9ZZRHtlADB88uz', '0tKcYR2II1VCQWT79i5NrW', '3ESSGgWzRf1xvP7G5hHMhB', '6fTdcGsjxlAD9PSkoPaLMX', '4Pwjz3DfvfQWV0rO2V8jyh', '1D066zixBwqFYqBhKgdPzp', '53QF56cjZA9RTuuMZDrSA6', '6jdOi5U5LBzQrc4c1VT983', '4cxMGhkinTocPSVVKWIw0d', '6qMXubogFdMrvVMJwqATzd', '5OMwQFBcte0aWFJFqrr5oj', '2aksifNn5ph8igDOkPBA02', '1jNOi6m3Hn8nLEeHCp5Msr', '0LWQWOFoz5GJLqcHk1fRO2', '5iSEsR6NKjlC9SrIJkyL3k', '4gmmRb6bZJffOOiww1JGTO', '2fuCquhmrzHpu5xcA1ci9x', '7KwZNVEaqikRSBSpyhXK2j', '4dASQiO1Eoo3RJvt74FtXB', '5TqBAOIBe0bQA0spNdcG3k', '2MLHyLy5z5l5YRp7momlgw', '48UPSzbZjgc449aqz8bxox', '7hsLKGEnoiNShdIGL6ws1f', '1wZqJM5FGDEl3FjHDxDyQd', '0Fv5N0cHBsl4bzCbollCAS', '6vnDoUOHTiVB5DvX18tJon', '7lGKEWMXVWWTt3X71Bv44I', '38yBBH2jacvDxrznF7h08J', '2WfaOiMkCvy7F5fcp2zZ8L', '6jmTHeoWvBaSrwWttr8Xvu', '5FEXPoPnzueFJQCPRIrC3c', '2NBQmPrOEEjA8VbeWOQGxO', '4BP3uh0hFLFRb5cjsgLqDh', '6MdqqkQ8sSC0WB4i8PyRuQ', '3mcG2NI5G5vhrQtRda1YnA', '6hmhG1b4LEyNuashVvuIAo', '5hgnY0mVcVetszbb85qeDg', '0GO8y8jQk1PkHzS31d699N', '6H0AwSQ20mo62jGlPGB8S6', '5tFep7dXGd7vEJ668wTPux', '75JFxkI2RXiU7L9VXzMkle', '0I3q5fE6wg7LIfHGngUTnV', '66TRwr5uJwPt15mfFkzhbi', '5JuA3wlm0kn7IHfbeHV0i6', '0Dc7J9VPV4eOInoxUiZrsL', '2dLLR6qlu5UJ5gk0dKz0h3', '2dOTkLZFbpNXrhc24CnTFd', '6YUTL4dYpB9xZO5qExPf05', '3rbNV2GI8Vtd8byhUtXZID', '2tUBqZG2AbRi7Q0BIrVrEj', '7zBPzAjKAqQpcv8F8GCq5s', '20LxTsa6936zOlzTWqoPVt', '0N3W5peJUQtI4eyR6GJT5O', '4Hf7WnR761jpxPr5D46Bcd', '6SwRhMLwNqEi6alNPVG00n', '1QEEqeFIZktqIpPI4jSVSF', '5nN8BwAQDJDguq7Dpd3JQQ', '3eze1OsZ1rqeXkKStNfTmi', '5vdp5UmvTsnMEMESIF2Ym7', '4DMKwE2E2iYDKY01C335Uw', '6Qyc6fS4DsZjB2mRW9DsQs', '4knL4iPxPOZjQzTUlELGSY', '46lFttIf5hnUZMGvjK0Wxo', '6rbeWjEavBHvX2kr6lSogS', '75ZvA4QfFiZvzhj2xkaWAh', '0d6gYlrea7zwNsjfAh9Xba', '5xV0Czdqefft6sPDqjmFBu', '1sNSG13fsK6KPKKNIQXXrh', '3Q3myFA7q4Op95DOpHplaY', '5MxNLUsfh7uzROypsoO5qe', '5ChkMS8OtdzJeqyybCc9R5', '2XMTqoHHSH0lvuXrvIEdco', '6N1EjQjnvhOjFrF6oUmGPa', '04KTF78FFg8sOHC1BADqbY', '7H6ev70Weq6DdpZyyTmUXk', '0yhPEz5KxlDwckGJaMlZqM', '7jslhIiELQkgW9IHeYNOWE', '1WoOzgvz6CgH4pX6a1RKGp', '2n5gVJ9fzeX2SSWlLQuyS9', '7yCqehT9dKACTFy7YugP0J', '6jG2YzhxptolDzLHTGLt7S', '6qn9YLKt13AGvpq9jfO8py', '5bcTCxgc7xVfSaMV3RuVke', '4BGJSbB5rAcg4pNzD4gfxU', '6ihL9TjfRjadfEePzXXyVF', '3CJvmtWw2bJsudbAC5uCQk', '67awxiNHNyjMXhVgsHuIrs', '3cHyrEgdyYRjgJKSOiOtcS', '5SsR3wtCOafDmZgvIdRhSm', '6ScJMrlpiLfZUGtWp4QIVt', '6mghCOaaSvrke0z1EUVUIf', '46GGxd8TVRt6FjUBfCavVT', '1mea3bSkSGXuIRvnydlB5b', '4iLqG9SeJSnt0cSPICSjxv', '1PSBzsahR2AKwLJgx8ehBj', '7JYsArznYOjX2jsrT3UEnL', '6olUplztLFFfU7fMYmFXOP', '5masKPHeAOVNgxdLebIcK7', '4NYwy0R3NdvORX2B6OZXBT', '5i66xrvSh1MjjyDd6zcwgj', '06iMqWThw4w8fTFyccvOwr', '2y4lAQpi5VTNLu2ldeTdUH', '1snNAXmmPXCn0dkF9DaPWw', '3iVAyrTlbWGBq0laeQ18z2', '1wYZZtamWTQAoj8B812uKQ', '6fAyRZ0GHuuvSOEIOwi58N', '7BVwi9cIzSc6tpyxsp47vJ', '2zvot9pY2FNl1E94kc4K8M', '5nkYHBWXu7KCgcdwP6jcB1', '6Sm2YzLtL8FcyTMONOkiFw', '6I9VzXrHxO9rA9A5euc8Ak', '3xdjjKMcMOFgo1eQrfbogM', '5b9iBVhfYxDF4JJcHrNIx5', '7xVLFuuYdAvcTfcP3IG3dS', '7oGZAicScQt96OAW4AruYy', '2iXdwVdzA0KrI2Q0iZNJbX', '42et6fnHCw1HIPSrdPprMl', '6OZh916QF8XNunWaP97WEZ', '3oEekS4xhmFQ88ieCVTZ7H', '3VzJE6yGuj8fDExUh6TLnc', '6Z8R6UsFuGXGtiIxiD8ISb', '6sDQ4uiWw9OdVrCXFLSlZt', '27PmvZoffODNFW2p7ehZTQ', '4kgsK0fftHtg9gZOzkU5T2', '1Je1IMUlBXcx1Fz0WE7oPT', '2tznHmp70DxMyr2XhWLOW0', '0BCy325UZyR9z0t0uxwn2N', '7FOJvA3PxiIU0DN3JjQ7jT', '1kusepF3AacIEtUTYrw4GV', '7gKIt3rDGIMJDFVSPBnGmj', '0bVtevEgtDIeRjCJbK3Lmv', '1IAzD1muglOxOcPbUHs70R', '6V2D8Lls36APk0THDjBDfE', '0zO8ctW0UiuOefR87OeJOZ', '2HHtWyy5CgaQbC7XSoOb0e', '2kQuhkFX7uSVepCD3h29g5', '0d8ZbnRoW1TJ3qEleTrYHH', '4E5P1XyAFtrjpiIxkydly4', '1fDsrQ23eTAVFElUMaf38X', '4qikXelSRKvoCqFcHLB2H2', '6PCUP3dWmTjcTtXY02oFdT', '2QbFClFyhMMtiurUjuQlAe', '53gcDgFyqqpvCzXWrnFZpH', '0i5el041vd6nxrGEU8QRxy', '00LfFm08VWeZwB0Zlm24AT', '7floNISpH8VF4z4459Qo18', '722tgOgdIbNe3BEyLnejw4', '7vGuf3Y35N4wmASOKLUVVU', '03fT3OHB9KyMtGMt2zwqCT', '7LVHVU3tWfcxj5aiPFEW4Q', '3yfqSUWxFvZELEM4PmlwIR', '0Y0TOsE1q11qgbi7c5WZsG', '4VrWlk8IQxevMvERoX08iC', '0fgZUSa7D7aVvv3GfO0A1n', '3b00LSFIRqnHvkoDEs5fkg', '78rIJddV4X0HkNAInEcYde', '5XzmZjXhMjDHr7ZfJ6DELQ', '5InOp6q2vvx0fShv3bzFLZ', '7m47Go71qTMBs4kTH7U8F8', '1L0rvFTlpoR8rHxdR4lTSN', '1UZOjK1BwmwWU14Erba9CZ', '3pfXxHoydFRfD7IBGJTQAN', '0B7wvvmu9EISAwZnOpjhNI', '6LxSe8YmdPxy095Ux6znaQ', '1Bqxj0aH5KewYHKUg1IdrF', '3E2Zh20GDCR9B1EYjfXWyv', '0lMbuWUpfTWhEmOKxppEau', '4kNvYhyl8R6m1vykVkcuBu', '5uqphUYsR45kPYplrYSAQh', '0zMzyHAeMvwq5CRstru1Fp', '3fyMH1t6UPeR5croea9PrR', '2rzBvHM9h36Tpdj7Jdajka', '79cuOz3SPQTuFrp8WgftAu', '7uKcScNXuO3MWw6LowBjW1', '3iL2l5gUqyPS6vDwJFgJTR', '1ID1QFSNNxi0hiZCNcwjUC', '4RL77hMWUq35NYnPLXBpih', '6jizk5lOUnfpaZXYMdfeC6', '5b88tNINg4Q4nrRbrCXUmg', '70cTMpcgWMcR18t9MRJFjB', '2aibwv5hGXSgw7Yru8IYTO', '0qRR9d89hIS0MHRkQ0ejxX', '3m660poUr1chesgkkjQM7P', '2bJvI42r8EF3wxjOuDav4r', '2a1o6ZejUi8U3wzzOtCOYw', '67T6l4q3zVjC5nZZPXByU8', '68EMU2RD1ECNeOeJ5qAXCV', '19gEmPjfqSZT0ulDRfjl0m', '5c5a2Ptu8eyIpljhQHjIqk', '3lSR267IJfT54p0Gfuw7mi', '7BqBn9nzAq8spo5e7cZ0dJ', '5xdVqHtFS0eLuNp4Z8Wbpa', '71O1jD7bF3cdMPvPi186V6', '4ntsD33Pgsgk8rUyZLLiUV', '3YBZIN3rekqsKxbJc9FZko', '22L7bfCiAkJo5xGSQgmiIO', '3AYcyxEACnmE6d96RPubID', '34oWbFBfGEElvgO0a5c9V4', '7t2bFihaDvhIrd2gn2CWJO', '6UjfByV1lDLW0SOVQA4NAi', '2nBI3iWLhupR7LyAJ5GGkE', '0srwKuJPH8yBzzFUJMBQM2', '6lanRgr6wXibZr8KgzXxBl', '4r8lRYnoOGdEi6YyI5OC1o', '5CQ30WqJwcep0pYcV4AMNc', '7yHEDfrJNd0zWOfXwydNH0', '5tVA6TkbaAH9QMITTQRrNv', '22mek4IiqubGD9ctzxc69s', '2N3U8uTYhjX2KwGT0pf5x0', '5rgy6ghBq1eRApCkeUdJXf', '6FE2iI43OZnszFLuLtvvmg', '5lXcSvHRVjQJ3LB2rLKQog', '5QldjuXcxplhjjUqLrzl6H', '3zHq9ouUJQFQRf3cm1rRLu', '0BgbobvykXxEvxo2HhCuvM', '5Ohxk2dO5COHF1krpoPigN', '4zGvb8hxGLB2jEPRFiRRqw', '0fioLzGM8ngbD1w6fMmm45', '0Rz1KXsP4bhGxs0ffySSSn', '152ANCuCtaK7mkhyFubrRG', '7i2DJ88J7jQ8K7zqFX2fW8', '6jrMVRReY24qzCfe1BRrww', '4Z3qm2aWGTJuJKnv3EWwyD', '7cgu4JBW3hq1GwTM1ilkKQ', '6ZOBP3NvffbU4SZcrnt1k6', '07GvNcU1WdyZJq3XxP0kZa', '4ckuS4Nj4FZ7i3Def3Br8W', '15twB7zTglmu0Bg8gW4Mrm', '3W3KtDwAIg3mAruSpnfG3Q', '2FiSTH0GYpIioUgjfzMIja', '1hGy2eLcmC8eKx7qr1tOqx', '3iVcZ5G6tvkXZkZKlMpIUs', '5lDriBxJd22IhOH9zTcFrV', '4zzzZ1UNfr75ASG1lUE9L1', '0jx8zY5JQsS4YEQcfkoc5C', '3bnVBN67NBEzedqQuWrpP4', '1yEwEiTpsaPhQi9lb5EVV4', '4uhvMW7ly7tJil31YYscAN', '1YLJVmuzeM2YSUkCCaTNUB', '4E92bmgFiHxvy2SNjXjC3b', '5l3CML2OnzfNs5RfVgbcLt', '0tICYNayWWhH9GPeFrfjfD', '2Nz6aF1umHh5Et6I5H581L', '1ULa3GfdMKs0MfRpm6xVlu', '1cOyWWUr3oXJIxY0AjJEx9', '6m9qPYXmhge2QhBLfFKnVF', '2rb5MvYT7ZIxbKW5hfcHx8', '376KnY4TrgBITxjlnbnmIy', '6ltPEsP4edATzvinHOzvk2', '0ESJlaM8CE1jRWaNtwSNj8', '047fCsbO4NdmwCBn8pcUXl', '5DiXcVovI0FcY2s0icWWUu', '4S7YHmlWwfwArgd8LfSPud', '2g8HN35AnVGIk7B8yMucww', '6AoYWCzsDls6c61Zp5qTuU', '3AJwUDP919kvQ9QcozQPxg', '2N3F1EQCpnIeDOA3rLSAfE', '2h1IPjP471JJRSShTHRUhi', '3NxAG2ni1lLa8RKL6a0INc', '6kex4EBAj0WHXDKZMEJaaF', '6I6NX6tjGsxFAsIfGzY9lJ', '2CAK2t1reUgPK6OMgAMURB', '6UaRii9AH6Zss9xNMEQ2M9', '0wzABO1igQsSy8cQ7dIeHK', '1JClFT74TYSXlzpagbmj0S', '5TvE3pk05pyFIGdSY9j4DJ', '1rIKgCH4H52lrvDcz50hS8', '2yJ9GVCLMmzBBfQAnfzlwr', '1zCi4cVFqe6ja16MeGZKRN', '6eYYm2xwrvdav2yakF3cqg', '1oTo3ijRbaDAtrjJrGAPSw', '0k2GOhqsrxDTAbFFSdNJjT', '2rizacJSyD9S1IQUxUxnsK', '7wMq5n8mYSKlQIGECKUgTX', '5oQcOu1omDykbIPSdSQQNJ', '0utlOiJy2weVl9WTkcEWHy', '27L8sESb3KR79asDUBu8nW', '1z6WtY7X4HQJvzxC4UgkSf', '3A7qX2QjDlPnazUsRk5y0M', '3UwT4FadEGWyMdaSwYcUBY', '1mr3616BzLdhXfJmLmRsO8', '5wTMQjEx9LWeFwLjolPCUy', '57bgtoPSgt236HzfBOd8kj', '0FDzzruyVECATHXKHFs9eJ', '2nMeu6UenVvwUktBCpLMK9', '0BU7nIcCZxYSE0hYcc5oZz', '2CEgGE6aESpnmtfiZwYlbV', '4Sfa7hdVkqlM8UW5LsSY3F', '05ZACkzW8YbRq3eFgIfSNB', '1oHNvJVbFkexQc0BpQp7Y4', '6NxsCnLeLd8Ai1TrgGxzIx', '5T8EDUDqKcs6OSOwEsfqG7', '0H8XeaJunhvpBdBFIYi6Sh', '2xbI8Vmyv3TkpTdywpPyNw', '3NJG6vMH1ZsectZkocMEm0', '4kflIGfjdZJW4ot2ioixTB', '7BY005dacJkbO6EPiOh2wb', '0jSMveIWvnhDIvzqN74Uc7', '2HbKqm4o0w5wEeEFXm2sD4', '1UqhkbzB1kuFwt2iy4h29Q', '5MGeW5mHnqeJiM0NPBbkEZ', '3KYiA4vq6RPO1dE2XROXd8', '1nX9KhK3Fff27SnrIor2Yb', '4F7A0DXBrmUAkp32uenhZt', '1I8tHoNBFTuoJAlh4hfVVE', '1yYzuNd0KRyHVJ3NH8apBt', '42CeaId2XNlxugDvyqHfDf', '7EoSDrwBPUBeBEORrpvgko', '0prNGof3XqfTvNDxHonvdK', '4eLSCSELtKxZwXnFbNLXT5', '6cmm1LMvZdB5zsCwX5BjqE', '1LxKKYsJNPeBdOwdudsJzv', '6JY1IdkZGeIcPegKxjSKeb', '3lSDIJ2abCrOdDJ6pshUap', '2Gyc6e2cLxA5hoX1NOvYnU', '4BHzQ9C00ceJxfG16AlNWb', '08mG3Y1vljYA6bvDt4Wqkj', '0d28khcov6AiegSCpG5TuT', '5ByAIlEEnxYdvpnezg7HTX', '1HwpWwa6bnqqRhK8agG4RS', '4oDZ5L8izBals6jKBJDBcX', '6JjEVlMkfHWMeYavkEYzNO', '2ZyuwVvV6Z3XJaXIFbspeE', '6VwBbL8CzPiC4QV66ay7oR', '7vWGeYZJUzBXKGPro05UXS', '5j9iuo3tMmQIfnEEQOOjxh', '2TRFIQpTqq12xGpFJEr0Ft', '2ZRJRe82aZaVhOKKlbJr4v', '45yEy5WJywhJ3sDI28ajTm', '2YlZnw2ikdb837oKMKjBkW', '1VdZ0vKfR5jneCmWIUAMxK', '67WTwafOMgegV6ABnBQxcE', '4wCmqSrbyCgxEXROQE6vtV', '2U8NXPTXZWG2O0ye2sYRiH', '0YpBHgZ9Pfr4fbiKkP9nj9', '557un1HgwYMuqfWGSTmnxw', '7Ezwtgfw7khBrpvaNPtMoT', '1eQBEelI2NCy7AUTerX0KS', '5tf1VVWniHgryyumXyJM7w', '7gHs73wELdeycvS48JfIos', '7tmtOEDxPN7CWaQWBsG1DY', '0tgVpDi06FyKpA1z0VMD4v', '1XRgIKC5TPwo7nWGyKqgG0', '0bYg9bo50gSsH3LtXe2SQn', '76Y0gxtTxN0FyDCYh5qYQj', '4P7VFiaZb3xrXoqGwZXC3J', '5knuzwU65gJK7IF5yJsuaW', '4auZhbHhgbiSMeh0kiHCRk', '6yHkPtl6UQ7RjtJLBPzbJw', '7kqcudBGM74MXVoYMaoWkC', '6kZFIsYCBeuH0f1zGk1UoM', '2TR7A4ulH9R1PNwMyd8o8U', '1t2tKmSYA61IA7scT1yoIn', '3UfCFlGruX0DRPCpD1V3pU', '4YPhn26bIFm2KUkL1VLzQG', '0q75NwOoFiARAVp4EXU4Bs', '6RtPijgfPKROxEzTHNRiDp', '4EnkwZd0UJAuHpNMMemQaA', '0DdpxWfVvUGgkJv5536tiF', '5HGibWoxnkYSkl6mHmAlOE', '5EWPGh7jbTNO2wakv8LjUI', '4aWmUDTfIPGksMNLV2rQP2', '4rHZZAmHpZrA3iH5zx8frV', '5y69gQtK33qxb8a24ACkCy', '4YR6Dextuoc3I8nJ0XgzKI', '3pLTOP0G0etiWUknFoRpsr', '5AyL2kgLtTWEu3qO3B9SqK', '6BbINUfGabVyiNFJpQXn3x', '1dv3ePjze9tPq2pk8eWJdR', '12d5QFwzh60IIHlsSnAvps', '7tGlzXJv6GD5e5qlu5YmDg', '2dqLk7ezV15LEJEwUmEbXB', '22DKsoYFV5npPXmnPpXL7i', '4TZy1wLyHec06pwgFYDh1a', '5cbpoIu3YjoOwbBDGUEp3P', '60a0Rd6pjrkxjPbaKzXjfq', '6M6Tk58pQvABy6ru66dY3d', '60wwxj6Dd9NJlirf84wr2c', '5RoIXwyTCdyUjpMMkk4uPd', '7lL3MvFWFFSD25pBz72Agj', '1CnPYaKxTVb4LWOtiGOm0m', '3lPAHV0b53zgRRm9LBgnTY', '4aWn4NHlELpOehxsBaQeoe', '6pyzBTIjcO2AMkKE6x2Otb', '7lQ8MOhq6IN2w8EYcFNSUk', '3xqF04FdMK7gpIPG3SPFpY', '6GnhWMhgJb7uyiiPEiEkDA', '1EaKU4dMbesXXd3BrLCtYG', '0wpbHnOW0zVUtV10LSj9c9', '5C0LFQARavkPpn7JgA4sLk', '1bdXMstfxFWYSkEFTnJMoN', '5uQOauh47VFt3B2kV9kRXw', '2iUmqdfGZcHIhS3b9E9EWq', '6HfOzLLjsaXsehIFEsrxTk', '4efoEY8iDBzUqitjmNDhpN', '5g7sDjBhZ4I3gcFIpkrLuI', '6HTJZ0TQJVMSKkUGzAOe2h', '3H1LCvO3fVsK2HPguhbml0', '18GC3F8YPGB8CePXcTUizQ', '3XVBdLihbNbxUwZosxcGuJ', '0k6DnZMLoEUH8NGD5zh2SE', '1a1i2IwXnUN0PjllVEhA4B', '5qII2n90lVdPDcgXEEVHNy', '0ofbQMrRDsUaVKq2mGLEAb', '2zYzyRzz6pRmhPzyfMEC8s', '4SRqDmPxYX0pUb5B5ut2Ri', '6Fha6tXHkL3r9m9nNqQG8p', '124NFj84ppZ5pAxTuVQYCQ', '7s0lDK7y3XLmI7tcsRAbW0', '2mk87j3RWPdzy0rWIoUP1o', '43ZyHQITOjhciSUUNPVRHc', '3ZLyt2ndLFBh148XRYjYYZ', '1G391cbiT3v3Cywg8T7DM1', '1OAiWI2oPmglaOiv9fdioU', '1BECwm5qkaBwlbfo4kpYx8', '07lxDm1s8FVO4GF54Nooiz', '4IoYz8XqqdowINzfRrFnhi', '5suEtW2DUAfvroohjzgatb', '4NpDZPwSXmL0cCTaJuVrCw', '1zWZvrk13cL8Sl3VLeG57F', '5Mw9bXG1dLNhbjofkVS2oR', '6y6jbcPG4Yn3Du4moXaenr', '248OFOZef6ShXv6DGgbnxU', '29gsi1zZrZxdStACmTQB0Z', '5kjyiH6but1t2UDXq15aeS', '5U8hKxSaDXB8cVeLFQjvwx', '4g3Ax56IslQkI6XVfYKVc5', '2IpGdrWvIZipmaxo1YRxw5', '55OdqrG8WLmsYyY1jijD9b', '6mORGLOz79w6VsCRLWYYuK', '4qqArAiTPueDxIp7cf87h7', '7wBrglFVTNCcW6IhdgBkm1', '5eek2X5459T1HoYJk2CKXv', '1CvhKmrutTAta5awpJcFDn', '6u5M4jPpYkoRV4vVHDQvkd', '59J5nzL1KniFHnU120dQzt', '7hhAwcMTdCHxuYkCHCfzw7', '4AtZRwSR8BOTTQg5ihSggt', '4WiiRw2PHMNQE0ad6y6GdD', '7aXuop4Qambx5Oi3ynsKQr', '1louJpMmzEicAn7lzDalPW', '0bXpmJyHHYPk6QBFj25bYF', '4yugZvBYaoREkJKtbG08Qr', '2WNVqZq1ujhMDlOAqBFkVv', '5bgwqaRSS3M8WHWruHgSL5', '3ZOEytgrvLwQaqXreDs2Jx', '34ceTg8ChN5HjrqiIYCn9Q', '2SiXAy7TuUkycRVbbWDEpo', '1sCxVKWImDZSZKvG0U9B23', '5ihS6UUlyQAfmp48eSkxuQ', '4sFbojhVXQv7dBC9PVCcRn', '5DA77EqppDmCTWGovd4oTP', '2qOm7ukLyHUXWyR4ZWLwxA', '3Bjr9MzHM7KHk6zq7KvJRN', '3f7gYMirBEKuc57218BjOY', '2eAZfqOm4EnOF9VvN50Tyc', '27PmKcvsjXp7G1IQgLUkYY', '1uXbwHHfgsXcUKfSZw5ZJ0', '7fqhrLJzKHJ0RW32N0y2Gp', '5Wj1rJnCLpMHdLaxsFtJLs', '4INDiWSKvqSKDEu7mh8HFz', '6WAxKNbZoGNzQTIvdMqkFs', '433P7tDcIAi6NLnf4Sh6tI', '2Fk0WwAqTBesLtKg97nojy', '3bDGwl0X3EjQmIyFD1uif5', '43btz2xjMKpcmjkuRsvxyg', '5wQnmLuC1W7ATsArWACrgW', '6ZANrVuAMp2rpjhfbOuJly', '1XQnZTR0ER8y5fGO17uX1R', '20I6sIOMTCkB6w7ryavxtO', '6b5rA9rthDbZDOQp9UbOgl', '5JtPGzRgrWxkXX9LoROq3d', '6kwAbEjseqBob48jCus7Sz', '4nthV2eZAXnt4yiJMocLkG', '2V65y3PX4DkRhy1djlxd9p', '0LN0ASTtcGIbNTnjSHG6eO', '7t5m6zRwIEBxmPt8lNoPPi', '7N3PAbqfTjSEU1edb2tY8j', '7EOYLyD4pP4YJVgoVeKUQ1', '0ofHAoxe9vBkTCp2UQIavz', '62N2JSA0jHmSH7Va9t7hIf', '40dJCw4xU6Bd5ie9rfagNo', '3omXshBamrREltcf24gYDC', '5Sf3GyLEAzJXxZ5mbCPXTu', '4G2Hbfwvn3oH7LxxPXjjGn', '4IWGnyOHDrVZEtPWfs4s7q', '285HeuLxsngjFn4GGegGNm', '3fqwjXwUGN6vbzIwvyFMhx', '4pbJqGIASGPr0ZpGpnWkDn', '2PtBhfoPZ6VYtXkrE5FrCH', '6D5pfooPP6hi99RaXjkDsP', '0vupCkmy497h49a74Xsxj1', '1XGmzt0PVuFgQYYnV2It7A', '7cGFbx7MP0H23iHZTZpqMM', '01iyCAUm8EvOFqVWYJ3dVX', '5lA3pwMkBdd24StM90QrNR', '3ebXMykcMXOcLeJ9xZ17XH', '6WQLkih8nE0JdUCEyLaGnQ', '3B7udSGy2PfgoCniMSb523', '4PzovBqgnSHKd8opsP7IVM', '3ts6xK5GzfMAAriT9AIBmP', '0ikz6tENMONtK6qGkOrU3c', '4NTWZqvfQTlOMitlVn6tew', '2IGr3q6ljcpLvHDFLtI0yW', '1CI6YgwwNq3VfhgxPuEpE6', '6ndmKwWqMozN2tcZqzCX4K', '3M5eeHXgG4VplKNcsBC8Dj', '14OxJlLdcHNpgsm4DRwDOB', '5jE48hhRu8E6zBDPRSkEq7', '6L89mwZXSOwYl76YXfX13s', '5pfJsMwoRYKampPay8amX0', '7HGTkn2aX7MNdKs7nV2xBt', '7pYfyrMNPn3wtoCyqcTVoI', '3U3Ff8ZvL6oEu1r98gCCWW', '1CdkNxTlkUWR4ZnXcKES3b', '0yD66650JxhqKbW76C2qCo', '7fYbFYt7X4FZvuJJC90EX0', '2NtAwdkesWt1QkcMTe4IjN', '39hnH8WdPmNT3Q3yzwC9Rg', '4omisSlTk6Dsq2iQD7MA07', '7m9OqQk4RVRkw9JJdeAw96', '1mKXFLRA179hdOWQBwUk9e', '4hEl2wrneFEJbJ6SDYWd2f', '70wYA8oYHoMzhRRkARoMhU', '6TfBA04WJ3X1d1wXhaCFVT', '71SvEDmsOwIWw1IozsZoMA', '4KTtYhxFtFL7mBwnjkKfLm', '4PWY72AubTjoZrohQt0pWn', '4MflGTO2ZTcSQ12bWcyRgI', '1vvNmPOiUuyCbgWmtc6yfm', '3kZC0ZmFWrEHdUCmUqlvgZ', '5DSr1NMci58MEgS20vivSL', '1TfqLAPs4K3s2rJMoCokcS', '2KmEgiY8fQs0G6WNxtzQKr', '5BbYPT6ehZf0hSv2su6JAl', '2iDjCLUOGhJtz5cPHljGVd', '4P5KoWXOxwuobLmHXLMobV', '77oU2rjC5XbjQfNe3bD6so', '5hJFhO9dvhJoDvUZZ9iWSw', '4gbVRS8gloEluzf0GzDOFc', '0CokSRCu5hZgPxcZBaEzVE', '10Nmj3JCNoMeBQ87uw5j8k', '18AXbzPzBS8Y3AkgSxzJPb', '1ivHxaGL5ld9VS1zsYc4YN', '2aoo2jlRnM3A0NyLQqMN2f', '5a7NdkF09AfD0H607eiOkX', '48q0vSHcJdhK3IiXH8C5WJ', '1Uq3IOIy1CUlHUgP6vWpum', '64GRDrL1efgXclrhVCeuA0', '5hc71nKsUgtwQ3z52KEKQk', '1OOtq8tRnDM8kG2gqUPjAj', '6KI1ZpZWYAJLvmVhCJz65G', '7fSGbZLhWlAiCC3HDPAULu', '37f4ITSlgPX81ad2EvmVQr', '68vgtRHr7iZHpzGpon6Jlo', '4tXA1TUmKvz7CbUT9LUHDx', '16pwlVsypm4aDKMhXdOuXg', '1AWQoqb9bSvzTjaLralEkT', '30VrBsh1STRBoIrhQOAwzK', '4356Typ82hUiFAynbLYbPn', '1dgWTMoHwTUnQhOQ8SR5fV', '0ntQJM78wzOLVeCUAW7Y45', '2Gy7qnDwt8Z3MNxqat4CsK', '1fidCEsYlaVE3pHwKCvpFZ', '2l57cfmCnOkwNX1tky02n1', '6nTiIhLmQ3FWhvrGafw2zj', '1mXuMM6zjPgjL4asbBsgnt', '4aX4Oycsk1fhHIee1zqsDe', '6mFkJmJqdDVQ1REhVfGgd1', '0hy1SOTEn9ifXTzOwnCwEr', '5QTxFnGygVM4jFQiBovmRo', '2q6j0nlwgKlYy7xgrria4S', '2CPqh63wRVscbceKcPxwvv', '67iAlVNDDdddxqSD2EZhFs', '3MOECVkNshqHYTPt5DZcdN', '6cb0HzFQPN4BGADOmSzPCw', '1kMuU3TNQvHbqvXCWBodmP', '1CkvWZme3pRgbzaxZnTl5X', '62LHRv9uwSNlBmByQF5jdE', '0p1BcEcYVO3uk4KDf3gzkY', '2DpCdPMg1BADE4HDnxt3Rd', '6KQEXfAdNQ85TabNo6mNIk', '6Xs7OKt6i0Ddq8B4M5Dgvr', '20IZ0jYjnFO0NxyiaRsJwb', '5zA8vzDGqPl2AzZkEYQGKh', '6gTJaPuj8DT8RjuDJyBgzP', '1qwnPVOIJjAFfCc40Etb1D', '0m1KYWlT6LhFRBDVq9UNx4', '0JEqGkvUiMTQmFY6sgL9kg', '0xMd5bcWTbyXS7wPrBtZA6', '5SZ6zX4rOrEQferfFC2MfP', '1NpW5kyvO4XrNJ3rnfcNy3', '23oxJmDc1V9uLUSmN2LIvx', '6BaxqcoEM9r3LXisTyJjST', '6MjljecHzHelUDismyKkba', '25nzKGDiua1lE9Qo5V19GL', '64BbK9SFKH2jk86U3dGj2P', '5eqiMMbaeUZ32Q7sS00H35', '2qLMf6TuEC3ruGJg4SMMN6', '6vSforRhuzsA0D0SO9fG1S', '0c1gHntWjKD7QShC8s99sq', '1fLdeDTrJWNkwOeFyAVLvF', '7L605WhF5EGf34ggj87yK6', '3muBQDekYAg7jm6hDu6R0Z', '3WRQUvzRvBDr4AxMWhXc5E', '07nH4ifBxUB4lZcsf44Brn', '2nLtzopw4rPReszdYBJU6h', '0qt5f5EL92o8Snzopsv0en', '2MYl0er3UZ1RlKwRb5LODh', '7avUYFehb1GscgCncPdBDK', '3G7XYAwtxtoGK7fAm4IlD9', '6cREm4bV7V79Yxdilx9HDo', '6ORqU0bHbVCRjXm9AjyHyZ', '6vSwxzO2Qf4BinHSXRwZJe', '5CG9Ps5ynNjpKJHmwc95pa', '6fOPuabPdAJ0HgqJFcDGb1', '5VGlqQANWDKJFl0MBG3sg2', '70mIuBKGTPrWMwWq9D4F56', '1XHjU0TGIgl5lMFKAF25Y3', '3jlbL2OTD5YmIunYzgQTAN', '0gbBzIqrECJOEPvQJIBFs5', '1soxUgYIZb1qx1c7o1Lc7z', '24NwBd5vZ2CK8VOQVnqdxr', '1HNs07uZxZniPNmniw2GTa', '6lV2MSQmRIkycDScNtrBXO', '1SLikaDhWhhhnLJC58bkFI', '0qOnSQQF0yzuPWsXrQ9paz', '3e0yTP5trHBBVvV32jwXqF', '2K87XMYnUMqLcX3zvtAF4G', '2kfpH2OAAdpk5J3JaraAIh', '4y1LsJpmMti1PfRQV9AWWe', '7eaKWfov7b2Qa2n6HTesL3', '7yMnml7zdYl5LlDFZPm5Hd', '32lm3769IRfcnrQV11LO4E', '4prEPl61C8qZpeo3IkYSMl', '7wZUrN8oemZfsEd1CGkbXE', '1wjzFQodRWrPcQ0AnYnvQ9', '34Jeq8ktRzyOW1uw40InVy', '7fPHfBCyKE3aVCBjE4DAvl', '47x1F4HyX7LafFgxtoa19P', '5IMtdHjJ1OtkxbGe4zfUxQ', '3G6hD9B2ZHOsgf4WfNu7X1', '7rPLZ8Krm6CZIbraFUlnWZ', '1mXVgsBdtIVeCLJnSnmtdV', '3yZQk5PC52CCmT4ZaTIKvv', '3oHNJECGN3bBoGXejlw2b1', '5ujh1I7NZH5agbwf7Hp8Hc', '69uxyAqqPIsUyTO8txoP2M', '0jdny0dhgjUwoIp5GkqEaA', '0afhq8XCExXpqazXczTSve', '6b2oQwSGFkzsMtQruIWm2p', '3TZwjdclvWt7iPJUnMpgcs', '0bXFIF7iL17TYLyx8JHziM', '5brMyscUnQg14hMriS91ks', '0d1ZmSlIf05gkCPuSPy0Yq', '5EnYT6F7wEcdege6mDHEfO', '4LloVtxNZpeh7q7xdi1DQc', '4lLtanYk6tkMvooU0tWzG8', '0Zh5U48tZNeAzzLTV1CVBE', '25oOaleife6E2MIKmFkPvg', '5WObuDOxPHlQaoYUf2W4lh', '2cMTIlktg3M9mXYqCPqw1J', '3ZffCQKLFLUvYM59XKLbVm', '57i3M29DWoo7RDk0Tf0LZG', '4GVD0FIBo08FSAy3tbIY7g', '5jPyymL6gQyJNMMnMX1IMx', '2IiNA0s5eQBSjwK4iNeUvW', '2c8sgbZoEanC3QyFNZxUcA', '1bp2IO61zbQrbWNmKKxg3f', '0JXXNGljqupsJaZsgSbMZV', '2ekn2ttSfGqwhhate0LSR0', '4uLU6hMCjMI75M1A2tKUQC', '1V4jC0vJ5525lEF1bFgPX2', '1ACZpHI5vZ5Ea4xGlkdGWM', '26eOTllWPn7oKuDUJnsJwF', '1dzQoRqT5ucxXVaAhTcT0J', '0pn6qyOJYNwP9nhGg3L7dV', '7qCAVkHWZkF44OzOUKf8Cr', '4d75stQ2jRfq8lzaqhFFKs', '3ZAMtgYJFoHwJjFkhkXqKr', '3MjUtNVVq3C8Fn0MP3zhXa', '6yIHGmQLJxWAUZ1ZkENemN', '0WKYRFtH6KKbaNWjsxqm70', '6SKwQghsR8AISlxhcwyA9R', '2vW5tqS1EFel9yYOQ7WZmE', '6bxUnsSGZCmoHHU5auwtps', '5g7rJvWYVrloJZwKiShqlS', '3Osd3Yf8K73aj4ySn6LrvK', '6uFsE1JgZ20EXyU0JQZbUR', '1QV6tiMFM6fSOKOGLMHYYg', '4sebUbjqbcgDSwG6PbSGI0', '0uqPG793dkDDN7sCUJJIVC', '7jTKLKs3NDmDnJHan5M2A0', '5rX6C5QVvvZB7XckETNych', '5xS9hkTGfxqXyxX6wWWTt4', '1uDjaezEbalGyGnuH80zDK', '73fzhVcs7n1wZz84eoE2vs', '5UWwZ5lm5PKu6eKsHAGxOk', '36tghkPg1AO4HsAzo6YpPp', '16bHRxM89ue0TiCKARYbRp', '6XK6Zw6JkFsHXzAcMWNiIr', '6bUNEbXT7HovLW6BgPCBsb', '0PT7nlpo11hYYyfnBgtilT', '10M2Ex445zw585Ducldzkw', '1TfAhjzRBWzYZ8IdUV3igl', '4o0NjemqhmsYLIMwlcosvW', '7rqyZM53JpYj86avtfmyeg', '6HMHgBHdLBQ0QYIaOp2gse', '0ZUo4YjG4saFnEJhdWp9Bt', '3Ytr1SUCUi6J3L9dRFx5iH', '7aliOjqVEBd3ZZ8NMkuifd', '2Foc5Q5nqNiosCNqttzHof', '17VegeBoHvMlIByrdu64KR', '16Ah4QqH4mgYVXqfC4mdSd', '1lItf5ZXJc1by9SbPeljFd', '5hYTyyh2odQKphUbMqc5gN', '6xHI9KjUjYT0FPtGO8Mxa1', '6zpCJDhdpHPZCcFCJZDqX5', '2qYsSHsYkihWx043HVJQRV', '3Eq7yD58dIXqOgw1j7NFhY', '4cg1yakyRSIOjxKM2I7J1q', '3QEkTxcsLUPfE33cRZ4y2K', '1vxw6aYJls2oq3gW0DujAo', '05nbZ1xxVNwUTcGwLbp7CN', '7Kq16WtEJzdRSNQgdXsn7Y', '0lmdsH1MIoLsMymnNpd6HU', '33iv3wnGMrrDugd7GBso1z', '5aj0xPGiEUN3aI2oOYu14S', '6ZOPiKQeibCn7fP8dncucL', '7vFv0yFGMJW3qVXbAd9BK9', '7MmG8p0F9N3C4AXdK6o6Eb', '6ECp64rv50XVz93WvxXMGF', '6XkuklKiHYVTlVvWlTgQYP', '5NFYuqu8V6QXc6mzcLImd6', '39afswHs17v53znQm1gDTY', '6uQKuonTU8VKBz5SHZuQXD', '25rc1PFgPvtV6GFSloyOI0', '33JcUj9qQDayKswunZP9ar', '6JG0qhINKVwiHxqN85j7RG', '4zweVv3Wa6XgexhoUOzkYs', '07BAaeVwEwkzQrE3qJxJ5S', '3FmAUR4SPWa3P1KyDf21Fu', '4P6BuLsqtg5uISdE77ypI9', '7j31rVgGX9Q2blT92VBEA0', '3b7CDTKB0SRTmQ6ytYi5vZ', '2AYEOC02WLhUiOoaig2SEH', '4iEOVEULZRvmzYSZY2ViKN', '1KhljCoJ2TgDEldnnfTHHc', '7mitXLIMCflkhZiD34uEQI', '7seTcUFOhn5caSDbiSfsp0', '3bMNprrp2JDKZsGbiXpsJl', '7cpCU3Denug5NGZsSpQl8v', '235LXPXfi0SmOaS9TaCh3c', '4ly1QBXEwYoDmje9rmEgC4', '7xHWNBFm6ObGEQPaUxHuKO', '7IWkJwX9C0J7tHurTD7ViL']\n"
     ]
    }
   ],
   "source": [
    "answer=heapq.nlargest(1000,song_frequency_list)\n",
    "ctt=1\n",
    "top_1000=[]\n",
    "for i in answer:\n",
    "    top_1000.append(i[1])\n",
    "    ctt+=1 \n",
    "print(top_1000)"
   ]
  },
  {
   "cell_type": "code",
   "execution_count": null,
   "metadata": {
    "collapsed": true
   },
   "outputs": [],
   "source": []
  }
 ],
 "metadata": {
  "kernelspec": {
   "display_name": "Python 3",
   "language": "python",
   "name": "python3"
  },
  "language_info": {
   "codemirror_mode": {
    "name": "ipython",
    "version": 3
   },
   "file_extension": ".py",
   "mimetype": "text/x-python",
   "name": "python",
   "nbconvert_exporter": "python",
   "pygments_lexer": "ipython3",
   "version": "3.6.1"
  }
 },
 "nbformat": 4,
 "nbformat_minor": 2
}
