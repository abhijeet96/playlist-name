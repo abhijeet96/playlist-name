{
 "cells": [
  {
   "cell_type": "code",
   "execution_count": null,
   "metadata": {},
   "outputs": [],
   "source": [
    "import pandas as pd\n",
    "import numpy as np\n",
    "import os\n",
    "import json\n",
    "import sys\n",
    "import re\n",
    "from collections import Counter\n",
    "list1=['apple','egg','apple','banana','egg','apple']\n",
    "\n",
    "json_filepath = os.path.join('.', 'Data','mpd.slice.0-999.json')\n",
    "\n",
    "data = json.load(open(json_filepath))\n",
    "\n",
    "playlists= data['playlists']\n",
    "\n",
    "# check if it is comprised of a single artist\n",
    "for playlist in playlists:\n",
    "    #print(playlist['name'])\n",
    "    artist_list = []\n",
    "    tracks = playlist['tracks']\n",
    "    for track in tracks:\n",
    "        artist_list.append(track['artist_name'])\n",
    "    counts = Counter(artist_list)\n",
    "    #print(counts)\n",
    "    for key,val in counts.items():\n",
    "        if(val>(playlist['num_tracks']/2)):\n",
    "            print(playlist['name'],key)\n",
    "    \n",
    "#     for track in tracks:\n",
    "#         artist = track['artist_name']\n",
    "#         if artist in songs_frequency:\n",
    "#             artist_frequency[artist]+=1\n",
    "#         else:\n",
    "#             artist_frequency[artist]=1\n",
    "    "
   ]
  },
  {
   "cell_type": "code",
   "execution_count": null,
   "metadata": {},
   "outputs": [],
   "source": [
    "\n",
    "track_folder_filepath = os.path.join('.', 'partial_spotify_api_data')\n",
    "cum_audio_features = []\n",
    "for filename in os.listdir(track_folder_filepath):\n",
    "    data = json.load(open(os.path.join(track_folder_filepath,filename)))\n",
    "\n",
    "    track_features = data['audio_features']\n",
    "    cum_audio_features = cum_audio_features + track_features\n",
    "\n",
    "cum_audio_features = np.asarray(cum_audio_features)\n",
    "print(len(cum_audio_features))\n",
    "print(cum_audio_features.shape)  \n",
    "#np.savetxt('1997602_2106301', np.asarray(cum_audio_features))\n",
    "with open('1997602_2106301.txt', 'w') as outfile:\n",
    "    np.savetxt(outfile, cum_audio_features,fmt='%s')"
   ]
  },
  {
   "cell_type": "code",
   "execution_count": null,
   "metadata": {},
   "outputs": [],
   "source": [
    "#check if most songs are from the same year\n",
    "for playlist in playlists:\n",
    "    #print(playlist['name'])\n",
    "    year = []\n",
    "    tracks = playlist['tracks']\n",
    "    for track in tracks:\n",
    "        artist_list.append(track[''])\n",
    "    counts = Counter(artist_list)\n",
    "    #print(counts)\n",
    "    for key,val in counts.items():\n",
    "        if(val>(playlist['num_tracks']/2)):\n",
    "            print(playlist['name'],key)"
   ]
  },
  {
   "cell_type": "code",
   "execution_count": null,
   "metadata": {},
   "outputs": [],
   "source": [
    "!pip3 install scikit-learn"
   ]
  },
  {
   "cell_type": "code",
   "execution_count": 2,
   "metadata": {},
   "outputs": [],
   "source": [
    "import scipy.sparse as sp\n",
    "from sklearn.metrics.pairwise import cosine_similarity\n",
    "#train = sp.load_npz('training_sparse_matrix.npz')\n"
   ]
  },
  {
   "cell_type": "code",
   "execution_count": 3,
   "metadata": {},
   "outputs": [],
   "source": [
    "test = sp.load_npz('testing_sparse_matrix.npz')"
   ]
  },
  {
   "cell_type": "code",
   "execution_count": 4,
   "metadata": {},
   "outputs": [
    {
     "name": "stdout",
     "output_type": "stream",
     "text": [
      "  (0, 498)\t1\n",
      "  (0, 1403)\t1\n",
      "  (0, 1528)\t1\n",
      "  (0, 1532)\t1\n",
      "  (0, 1560)\t1\n",
      "  (2, 34487)\t1\n",
      "  (2, 34488)\t1\n",
      "  (2, 34504)\t1\n",
      "  (2, 34505)\t1\n",
      "  (2, 34507)\t1\n",
      "  (2, 34542)\t1\n",
      "  (3, 1511)\t1\n",
      "  (3, 14273)\t1\n",
      "  (3, 17598)\t1\n",
      "  (3, 34560)\t1\n",
      "  (3, 34561)\t1\n",
      "  (3, 34591)\t1\n",
      "  (3, 34596)\t1\n",
      "  (3, 34600)\t1\n",
      "  (3, 34627)\t1\n",
      "  (3, 34637)\t1\n",
      "  (3, 34643)\t1\n",
      "  (3, 34648)\t1\n",
      "  (0, 261)\t1\n",
      "  (0, 298)\t1\n",
      "  (0, 1107)\t1\n",
      "  (0, 1143)\t1\n",
      "  (0, 1356)\t1\n",
      "  (0, 2448)\t1\n",
      "  (0, 2451)\t1\n",
      "  (0, 2524)\t1\n",
      "  (0, 2909)\t1\n",
      "  (0, 3440)\t1\n",
      "  (0, 4789)\t1\n",
      "  (0, 5461)\t1\n",
      "  (0, 5567)\t1\n",
      "  (0, 6024)\t1\n",
      "  (0, 6036)\t1\n",
      "  (0, 7266)\t1\n",
      "  (0, 7586)\t1\n",
      "  (0, 8862)\t1\n",
      "  (0, 11357)\t1\n",
      "  (0, 16690)\t1\n",
      "  (0, 18108)\t1\n",
      "  (0, 21462)\t1\n",
      "  (0, 41287)\t1\n",
      "  (1, 2158)\t1\n",
      "  (1, 5663)\t1\n",
      "  (1, 10002)\t1\n",
      "  (1, 10518)\t1\n",
      "  (1, 11376)\t1\n",
      "  (1, 17327)\t1\n",
      "  (1, 28491)\t1\n",
      "  (1, 34420)\t1\n",
      "  (1, 79721)\t1\n",
      "  (1, 101637)\t1\n",
      "  (1, 114450)\t1\n",
      "  (3, 3476)\t1\n",
      "  (3, 6481)\t1\n",
      "  (3, 8394)\t1\n",
      "  (3, 14896)\t1\n",
      "  (3, 25169)\t1\n",
      "  (3, 71707)\t1\n",
      "  (4, 3575)\t1\n",
      "  (4, 5673)\t1\n",
      "  (4, 13923)\t1\n",
      "  (4, 14929)\t1\n",
      "  (4, 17047)\t1\n",
      "  (4, 34542)\t1\n",
      "  (4, 36377)\t1\n",
      "  (4, 55081)\t1\n",
      "  (2, 4)\t0.14433756729740646\n"
     ]
    }
   ],
   "source": [
    "test = sp.csr_matrix(test)\n",
    "sliced = test[:5]\n",
    "sli2 = test[195780:195785]\n",
    "print(sliced)\n",
    "print(sli2)\n",
    "#test = sp.csr_matrix(test)\n",
    "#mat = cosine_similarity(test)\n",
    "mat = cosine_similarity(sliced,sli2,dense_output=False)\n",
    "print(mat)"
   ]
  },
  {
   "cell_type": "code",
   "execution_count": 6,
   "metadata": {},
   "outputs": [],
   "source": [
    "train = sp.load_npz('training_sparse_matrix.npz')"
   ]
  },
  {
   "cell_type": "code",
   "execution_count": null,
   "metadata": {},
   "outputs": [],
   "source": [
    "print(test.data.nbytes + test.indptr.nbytes + test.indices.nbytes)"
   ]
  },
  {
   "cell_type": "code",
   "execution_count": 7,
   "metadata": {},
   "outputs": [
    {
     "name": "stdout",
     "output_type": "stream",
     "text": [
      "(1000000, 2262292)\n"
     ]
    }
   ],
   "source": [
    "train = sp.csr_matrix(train)\n",
    "print(train.shape)"
   ]
  },
  {
   "cell_type": "code",
   "execution_count": 16,
   "metadata": {},
   "outputs": [
    {
     "name": "stdout",
     "output_type": "stream",
     "text": [
      "570372572\n"
     ]
    }
   ],
   "source": [
    "#Throws memory error\n",
    "#mat = cosine_similarity(train)\n",
    "print (train.data.nbytes + train.indptr.nbytes + train.indices.nbytes)\n",
    "#575421740 bytes = 575MB"
   ]
  },
  {
   "cell_type": "code",
   "execution_count": 17,
   "metadata": {},
   "outputs": [
    {
     "ename": "KeyboardInterrupt",
     "evalue": "",
     "output_type": "error",
     "traceback": [
      "\u001b[0;31m---------------------------------------------------------------------------\u001b[0m",
      "\u001b[0;31mKeyboardInterrupt\u001b[0m                         Traceback (most recent call last)",
      "\u001b[0;32m<ipython-input-17-d9124097391e>\u001b[0m in \u001b[0;36m<module>\u001b[0;34m()\u001b[0m\n\u001b[1;32m     10\u001b[0m \u001b[0;34m\u001b[0m\u001b[0m\n\u001b[1;32m     11\u001b[0m \u001b[0;32mfor\u001b[0m \u001b[0mchunk_start\u001b[0m \u001b[0;32min\u001b[0m \u001b[0mrange\u001b[0m\u001b[0;34m(\u001b[0m\u001b[0;36m0\u001b[0m\u001b[0;34m,\u001b[0m \u001b[0mmatrix_len\u001b[0m\u001b[0;34m,\u001b[0m \u001b[0mchunk_size\u001b[0m\u001b[0;34m)\u001b[0m\u001b[0;34m:\u001b[0m\u001b[0;34m\u001b[0m\u001b[0m\n\u001b[0;32m---> 12\u001b[0;31m     \u001b[0mcosine_similarity_chunk\u001b[0m \u001b[0;34m=\u001b[0m \u001b[0msimilarity_cosine_by_chunk\u001b[0m\u001b[0;34m(\u001b[0m\u001b[0mchunk_start\u001b[0m\u001b[0;34m,\u001b[0m \u001b[0mchunk_start\u001b[0m\u001b[0;34m+\u001b[0m\u001b[0mchunk_size\u001b[0m\u001b[0;34m)\u001b[0m\u001b[0;34m\u001b[0m\u001b[0m\n\u001b[0m\u001b[1;32m     13\u001b[0m     \u001b[0;31m# Handle cosine_similarity_chunk  ( Write it to file_timestamp and close the file )\u001b[0m\u001b[0;34m\u001b[0m\u001b[0;34m\u001b[0m\u001b[0m\n\u001b[1;32m     14\u001b[0m     \u001b[0;31m# Do not open the same file again or you may end up with out of memory after few chunks\u001b[0m\u001b[0;34m\u001b[0m\u001b[0;34m\u001b[0m\u001b[0m\n",
      "\u001b[0;32m<ipython-input-17-d9124097391e>\u001b[0m in \u001b[0;36msimilarity_cosine_by_chunk\u001b[0;34m(start, end)\u001b[0m\n\u001b[1;32m      7\u001b[0m     \u001b[0;32mif\u001b[0m \u001b[0mend\u001b[0m \u001b[0;34m>\u001b[0m \u001b[0mmatrix_len\u001b[0m\u001b[0;34m:\u001b[0m\u001b[0;34m\u001b[0m\u001b[0m\n\u001b[1;32m      8\u001b[0m         \u001b[0mend\u001b[0m \u001b[0;34m=\u001b[0m \u001b[0mmatrix_len\u001b[0m\u001b[0;34m\u001b[0m\u001b[0m\n\u001b[0;32m----> 9\u001b[0;31m     \u001b[0;32mreturn\u001b[0m \u001b[0mcosine_similarity\u001b[0m\u001b[0;34m(\u001b[0m\u001b[0mX\u001b[0m\u001b[0;34m=\u001b[0m\u001b[0mtrain\u001b[0m\u001b[0;34m[\u001b[0m\u001b[0mstart\u001b[0m\u001b[0;34m:\u001b[0m\u001b[0mend\u001b[0m\u001b[0;34m]\u001b[0m\u001b[0;34m,\u001b[0m \u001b[0mY\u001b[0m\u001b[0;34m=\u001b[0m\u001b[0mtrain\u001b[0m\u001b[0;34m,\u001b[0m\u001b[0mdense_output\u001b[0m\u001b[0;34m=\u001b[0m\u001b[0;32mFalse\u001b[0m\u001b[0;34m)\u001b[0m \u001b[0;31m# scikit-learn function\u001b[0m\u001b[0;34m\u001b[0m\u001b[0m\n\u001b[0m\u001b[1;32m     10\u001b[0m \u001b[0;34m\u001b[0m\u001b[0m\n\u001b[1;32m     11\u001b[0m \u001b[0;32mfor\u001b[0m \u001b[0mchunk_start\u001b[0m \u001b[0;32min\u001b[0m \u001b[0mrange\u001b[0m\u001b[0;34m(\u001b[0m\u001b[0;36m0\u001b[0m\u001b[0;34m,\u001b[0m \u001b[0mmatrix_len\u001b[0m\u001b[0;34m,\u001b[0m \u001b[0mchunk_size\u001b[0m\u001b[0;34m)\u001b[0m\u001b[0;34m:\u001b[0m\u001b[0;34m\u001b[0m\u001b[0m\n",
      "\u001b[0;32m~/.local/lib/python3.5/site-packages/sklearn/metrics/pairwise.py\u001b[0m in \u001b[0;36mcosine_similarity\u001b[0;34m(X, Y, dense_output)\u001b[0m\n\u001b[1;32m    923\u001b[0m         \u001b[0mY_normalized\u001b[0m \u001b[0;34m=\u001b[0m \u001b[0mnormalize\u001b[0m\u001b[0;34m(\u001b[0m\u001b[0mY\u001b[0m\u001b[0;34m,\u001b[0m \u001b[0mcopy\u001b[0m\u001b[0;34m=\u001b[0m\u001b[0;32mTrue\u001b[0m\u001b[0;34m)\u001b[0m\u001b[0;34m\u001b[0m\u001b[0m\n\u001b[1;32m    924\u001b[0m \u001b[0;34m\u001b[0m\u001b[0m\n\u001b[0;32m--> 925\u001b[0;31m     \u001b[0mK\u001b[0m \u001b[0;34m=\u001b[0m \u001b[0msafe_sparse_dot\u001b[0m\u001b[0;34m(\u001b[0m\u001b[0mX_normalized\u001b[0m\u001b[0;34m,\u001b[0m \u001b[0mY_normalized\u001b[0m\u001b[0;34m.\u001b[0m\u001b[0mT\u001b[0m\u001b[0;34m,\u001b[0m \u001b[0mdense_output\u001b[0m\u001b[0;34m=\u001b[0m\u001b[0mdense_output\u001b[0m\u001b[0;34m)\u001b[0m\u001b[0;34m\u001b[0m\u001b[0m\n\u001b[0m\u001b[1;32m    926\u001b[0m \u001b[0;34m\u001b[0m\u001b[0m\n\u001b[1;32m    927\u001b[0m     \u001b[0;32mreturn\u001b[0m \u001b[0mK\u001b[0m\u001b[0;34m\u001b[0m\u001b[0m\n",
      "\u001b[0;32m~/.local/lib/python3.5/site-packages/sklearn/utils/extmath.py\u001b[0m in \u001b[0;36msafe_sparse_dot\u001b[0;34m(a, b, dense_output)\u001b[0m\n\u001b[1;32m    133\u001b[0m     \"\"\"\n\u001b[1;32m    134\u001b[0m     \u001b[0;32mif\u001b[0m \u001b[0missparse\u001b[0m\u001b[0;34m(\u001b[0m\u001b[0ma\u001b[0m\u001b[0;34m)\u001b[0m \u001b[0;32mor\u001b[0m \u001b[0missparse\u001b[0m\u001b[0;34m(\u001b[0m\u001b[0mb\u001b[0m\u001b[0;34m)\u001b[0m\u001b[0;34m:\u001b[0m\u001b[0;34m\u001b[0m\u001b[0m\n\u001b[0;32m--> 135\u001b[0;31m         \u001b[0mret\u001b[0m \u001b[0;34m=\u001b[0m \u001b[0ma\u001b[0m \u001b[0;34m*\u001b[0m \u001b[0mb\u001b[0m\u001b[0;34m\u001b[0m\u001b[0m\n\u001b[0m\u001b[1;32m    136\u001b[0m         \u001b[0;32mif\u001b[0m \u001b[0mdense_output\u001b[0m \u001b[0;32mand\u001b[0m \u001b[0mhasattr\u001b[0m\u001b[0;34m(\u001b[0m\u001b[0mret\u001b[0m\u001b[0;34m,\u001b[0m \u001b[0;34m\"toarray\"\u001b[0m\u001b[0;34m)\u001b[0m\u001b[0;34m:\u001b[0m\u001b[0;34m\u001b[0m\u001b[0m\n\u001b[1;32m    137\u001b[0m             \u001b[0mret\u001b[0m \u001b[0;34m=\u001b[0m \u001b[0mret\u001b[0m\u001b[0;34m.\u001b[0m\u001b[0mtoarray\u001b[0m\u001b[0;34m(\u001b[0m\u001b[0;34m)\u001b[0m\u001b[0;34m\u001b[0m\u001b[0m\n",
      "\u001b[0;32m~/.local/lib/python3.5/site-packages/scipy/sparse/base.py\u001b[0m in \u001b[0;36m__mul__\u001b[0;34m(self, other)\u001b[0m\n\u001b[1;32m    438\u001b[0m             \u001b[0;32mif\u001b[0m \u001b[0mself\u001b[0m\u001b[0;34m.\u001b[0m\u001b[0mshape\u001b[0m\u001b[0;34m[\u001b[0m\u001b[0;36m1\u001b[0m\u001b[0;34m]\u001b[0m \u001b[0;34m!=\u001b[0m \u001b[0mother\u001b[0m\u001b[0;34m.\u001b[0m\u001b[0mshape\u001b[0m\u001b[0;34m[\u001b[0m\u001b[0;36m0\u001b[0m\u001b[0;34m]\u001b[0m\u001b[0;34m:\u001b[0m\u001b[0;34m\u001b[0m\u001b[0m\n\u001b[1;32m    439\u001b[0m                 \u001b[0;32mraise\u001b[0m \u001b[0mValueError\u001b[0m\u001b[0;34m(\u001b[0m\u001b[0;34m'dimension mismatch'\u001b[0m\u001b[0;34m)\u001b[0m\u001b[0;34m\u001b[0m\u001b[0m\n\u001b[0;32m--> 440\u001b[0;31m             \u001b[0;32mreturn\u001b[0m \u001b[0mself\u001b[0m\u001b[0;34m.\u001b[0m\u001b[0m_mul_sparse_matrix\u001b[0m\u001b[0;34m(\u001b[0m\u001b[0mother\u001b[0m\u001b[0;34m)\u001b[0m\u001b[0;34m\u001b[0m\u001b[0m\n\u001b[0m\u001b[1;32m    441\u001b[0m \u001b[0;34m\u001b[0m\u001b[0m\n\u001b[1;32m    442\u001b[0m         \u001b[0;31m# If it's a list or whatever, treat it like a matrix\u001b[0m\u001b[0;34m\u001b[0m\u001b[0;34m\u001b[0m\u001b[0m\n",
      "\u001b[0;32m~/.local/lib/python3.5/site-packages/scipy/sparse/compressed.py\u001b[0m in \u001b[0;36m_mul_sparse_matrix\u001b[0;34m(self, other)\u001b[0m\n\u001b[1;32m    510\u001b[0m            \u001b[0mnp\u001b[0m\u001b[0;34m.\u001b[0m\u001b[0masarray\u001b[0m\u001b[0;34m(\u001b[0m\u001b[0mother\u001b[0m\u001b[0;34m.\u001b[0m\u001b[0mindices\u001b[0m\u001b[0;34m,\u001b[0m \u001b[0mdtype\u001b[0m\u001b[0;34m=\u001b[0m\u001b[0midx_dtype\u001b[0m\u001b[0;34m)\u001b[0m\u001b[0;34m,\u001b[0m\u001b[0;34m\u001b[0m\u001b[0m\n\u001b[1;32m    511\u001b[0m            \u001b[0mother\u001b[0m\u001b[0;34m.\u001b[0m\u001b[0mdata\u001b[0m\u001b[0;34m,\u001b[0m\u001b[0;34m\u001b[0m\u001b[0m\n\u001b[0;32m--> 512\u001b[0;31m            indptr, indices, data)\n\u001b[0m\u001b[1;32m    513\u001b[0m \u001b[0;34m\u001b[0m\u001b[0m\n\u001b[1;32m    514\u001b[0m         \u001b[0;32mreturn\u001b[0m \u001b[0mself\u001b[0m\u001b[0;34m.\u001b[0m\u001b[0m__class__\u001b[0m\u001b[0;34m(\u001b[0m\u001b[0;34m(\u001b[0m\u001b[0mdata\u001b[0m\u001b[0;34m,\u001b[0m\u001b[0mindices\u001b[0m\u001b[0;34m,\u001b[0m\u001b[0mindptr\u001b[0m\u001b[0;34m)\u001b[0m\u001b[0;34m,\u001b[0m\u001b[0mshape\u001b[0m\u001b[0;34m=\u001b[0m\u001b[0;34m(\u001b[0m\u001b[0mM\u001b[0m\u001b[0;34m,\u001b[0m\u001b[0mN\u001b[0m\u001b[0;34m)\u001b[0m\u001b[0;34m)\u001b[0m\u001b[0;34m\u001b[0m\u001b[0m\n",
      "\u001b[0;31mKeyboardInterrupt\u001b[0m: "
     ]
    }
   ],
   "source": [
    "#Change chunk_size to control resource consumption and speed\n",
    "# Higher chunk_size means more memory/RAM needed but also faster \n",
    "chunk_size = 500 \n",
    "matrix_len = train.shape[0] # sparse\n",
    "\n",
    "def similarity_cosine_by_chunk(start, end):\n",
    "    if end > matrix_len:\n",
    "        end = matrix_len\n",
    "    return cosine_similarity(X=train[start:end], Y=train,dense_output=False) # scikit-learn function\n",
    "\n",
    "for chunk_start in range(0, matrix_len, chunk_size):\n",
    "    cosine_similarity_chunk = similarity_cosine_by_chunk(chunk_start, chunk_start+chunk_size)\n",
    "    # Handle cosine_similarity_chunk  ( Write it to file_timestamp and close the file )\n",
    "    # Do not open the same file again or you may end up with out of memory after few chunks\n",
    "    sp.save_npz(str(chunk_start)+'.npz', cosine_similarity_chunk)"
   ]
  },
  {
   "cell_type": "code",
   "execution_count": null,
   "metadata": {},
   "outputs": [],
   "source": []
  }
 ],
 "metadata": {
  "kernelspec": {
   "display_name": "Python 3",
   "language": "python",
   "name": "python3"
  },
  "language_info": {
   "codemirror_mode": {
    "name": "ipython",
    "version": 3
   },
   "file_extension": ".py",
   "mimetype": "text/x-python",
   "name": "python",
   "nbconvert_exporter": "python",
   "pygments_lexer": "ipython3",
   "version": "3.5.1+"
  }
 },
 "nbformat": 4,
 "nbformat_minor": 2
}
